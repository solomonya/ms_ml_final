{
 "cells": [
  {
   "cell_type": "code",
   "execution_count": 8,
   "id": "49c9da28-7545-499c-bfdf-0b562982d084",
   "metadata": {},
   "outputs": [],
   "source": [
    "import pandas as pd\n",
    "import numpy as np\n",
    "import matplotlib.pyplot as plt\n",
    "import seaborn as sns\n",
    "from sklearn.impute import SimpleImputer\n",
    "sns.set()\n",
    "%matplotlib inline\n",
    "\n",
    "train = pd.read_csv('train.csv', sep=',')\n",
    "train.head()\n",
    "y_train = train['target']\n",
    "X_train = train.drop(columns=['target', 'feature6', 'feature2'])\n",
    "\n",
    "def fill_nulls(X):\n",
    "    null_cols = [\"feature4\", \"feature3\", \"feature5\", 'feature1']\n",
    "    median_imputer = SimpleImputer(strategy=\"median\")\n",
    "    for col in null_cols:\n",
    "        X[col] = median_imputer.fit_transform(X[col].values.reshape(-1,1))\n",
    "fill_nulls(X_train)"
   ]
  },
  {
   "cell_type": "code",
   "execution_count": 9,
   "id": "746f980e-8954-406f-bcd3-fee9a26863f6",
   "metadata": {},
   "outputs": [],
   "source": [
    "from sklearn.linear_model import LogisticRegression\n",
    "from sklearn.tree import DecisionTreeClassifier\n",
    "from sklearn.svm import SVC\n",
    "from sklearn.ensemble import RandomForestClassifier, ExtraTreesClassifier, GradientBoostingClassifier, HistGradientBoostingClassifier"
   ]
  },
  {
   "cell_type": "code",
   "execution_count": 10,
   "id": "5d0cef8b-ad0f-43a3-84d1-6206e3d14cc4",
   "metadata": {},
   "outputs": [
    {
     "name": "stdout",
     "output_type": "stream",
     "text": [
      "Fitting 10 folds for each of 162 candidates, totalling 1620 fits\n",
      "Best Parameters:\n",
      " {'l2_regularization': 0, 'learning_rate': 0.1, 'max_depth': 5, 'max_iter': 100, 'min_samples_leaf': 20}\n",
      "Best Cross-Validation Accuracy: 0.9229999999999998\n"
     ]
    }
   ],
   "source": [
    "from sklearn.model_selection import GridSearchCV\n",
    "\n",
    "# Define the parameter grid\n",
    "param_grid = {\n",
    "    'learning_rate': [0.01, 0.05, 0.1],\n",
    "    'max_iter': [50, 100],\n",
    "    'max_depth': [3, 5, 7],\n",
    "    'min_samples_leaf': [20, 30, 40],\n",
    "    'l2_regularization': [0, 1e-3, 1e-2],\n",
    "}\n",
    "\n",
    "hgb_clf = HistGradientBoostingClassifier(random_state=42)\n",
    "\n",
    "# Initialize GridSearchCV\n",
    "grid_search = GridSearchCV(\n",
    "    estimator=hgb_clf,\n",
    "    param_grid=param_grid,\n",
    "    cv=10,  # 5-fold cross-validation\n",
    "    scoring='accuracy',\n",
    "    n_jobs=-1,  # Use all available cores\n",
    "    verbose=1\n",
    ")\n",
    "\n",
    "# Fit GridSearchCV\n",
    "grid_search.fit(X_train, y_train)\n",
    "\n",
    "# Best parameters\n",
    "print(\"Best Parameters:\\n\", grid_search.best_params_)\n",
    "\n",
    "# Best score\n",
    "print(\"Best Cross-Validation Accuracy:\", grid_search.best_score_)"
   ]
  },
  {
   "cell_type": "code",
   "execution_count": 12,
   "id": "0baa7525-4e74-45c4-93b8-74ae00653da8",
   "metadata": {},
   "outputs": [
    {
     "ename": "TypeError",
     "evalue": "TunedThresholdClassifierCV.__init__() got an unexpected keyword argument 'base_classifier'",
     "output_type": "error",
     "traceback": [
      "\u001b[0;31m---------------------------------------------------------------------------\u001b[0m",
      "\u001b[0;31mTypeError\u001b[0m                                 Traceback (most recent call last)",
      "Cell \u001b[0;32mIn[12], line 2\u001b[0m\n\u001b[1;32m      1\u001b[0m \u001b[38;5;28;01mfrom\u001b[39;00m \u001b[38;5;21;01msklearn\u001b[39;00m\u001b[38;5;21;01m.\u001b[39;00m\u001b[38;5;21;01mmodel_selection\u001b[39;00m \u001b[38;5;28;01mimport\u001b[39;00m TunedThresholdClassifierCV\n\u001b[0;32m----> 2\u001b[0m tuned_clf \u001b[38;5;241m=\u001b[39m \u001b[43mTunedThresholdClassifierCV\u001b[49m\u001b[43m(\u001b[49m\u001b[43mbase_classifier\u001b[49m\u001b[38;5;241;43m=\u001b[39;49m\u001b[43mhgb_clf\u001b[49m\u001b[43m,\u001b[49m\u001b[43m \u001b[49m\u001b[43mcv\u001b[49m\u001b[38;5;241;43m=\u001b[39;49m\u001b[38;5;241;43m5\u001b[39;49m\u001b[43m,\u001b[49m\u001b[43m \u001b[49m\u001b[43mscoring\u001b[49m\u001b[38;5;241;43m=\u001b[39;49m\u001b[38;5;124;43m'\u001b[39;49m\u001b[38;5;124;43mf1\u001b[39;49m\u001b[38;5;124;43m'\u001b[39;49m\u001b[43m)\u001b[49m\n\u001b[1;32m      4\u001b[0m \u001b[38;5;66;03m# Train the tuned classifier\u001b[39;00m\n\u001b[1;32m      5\u001b[0m tuned_clf\u001b[38;5;241m.\u001b[39mfit(X_train, y_train)\n",
      "\u001b[0;31mTypeError\u001b[0m: TunedThresholdClassifierCV.__init__() got an unexpected keyword argument 'base_classifier'"
     ]
    }
   ],
   "source": [
    "from sklearn.model_selection import TunedThresholdClassifierCV\n",
    "tuned_clf = TunedThresholdClassifierCV(base_classifier=hgb_clf, cv=5, scoring='f1')\n",
    "\n",
    "# Train the tuned classifier\n",
    "tuned_clf.fit(X_train, y_train)\n",
    "\n",
    "# Evaluate the model\n",
    "print(\"Optimized Accuracy:\", accuracy_score(y_test, y_pred))\n",
    "print(\"\\nOptimized Classification Report:\\n\", classification_report(y_test, y_pred))\n",
    "\n",
    "# Show the best threshold\n",
    "print(f\"Optimized Threshold: {tuned_clf.threshold_}\")"
   ]
  },
  {
   "cell_type": "code",
   "execution_count": 4,
   "id": "777db5dd-3d8c-4020-8ae1-72c4d8f7dc9d",
   "metadata": {},
   "outputs": [],
   "source": [
    "test = pd.read_csv('test.csv', sep=',')\n",
    "X_test = test.drop(columns=['Id', 'feature6', 'feature2'])\n",
    "fill_nulls(X_test)\n",
    "\n",
    "best_hgb_grid = grid_search.best_estimator_\n",
    "y_train = best_hgb_grid.predict(X_test)\n",
    "\n",
    "sample = pd.read_csv('sample.csv', sep=',')\n",
    "sample['target'] = y_train\n",
    "sample.head(10)\n",
    "sample.to_csv('HistGradientBoostingClassifier_optimized_benchmark.csv', index=False)"
   ]
  },
  {
   "cell_type": "code",
   "execution_count": 19,
   "id": "f7b24697-6b99-44eb-8234-43681856ad66",
   "metadata": {},
   "outputs": [
    {
     "name": "stdout",
     "output_type": "stream",
     "text": [
      "Fitting 5 folds for each of 100 candidates, totalling 500 fits\n",
      "Best Parameters:\n",
      " {'l2_regularization': np.float64(0.009404585843529142), 'learning_rate': np.float64(0.09585357193023286), 'max_depth': 7, 'max_iter': 105, 'min_samples_leaf': 22}\n",
      "Best Cross-Validation Accuracy: 0.916\n"
     ]
    }
   ],
   "source": [
    "from sklearn.model_selection import RandomizedSearchCV\n",
    "from scipy.stats import uniform, randint\n",
    "\n",
    "# Define the parameter distributions\n",
    "param_dist = {\n",
    "    'learning_rate': uniform(0.01, 0.09),  # 0.01 to 0.1\n",
    "    'max_iter': randint(100, 500),         # 100 to 600\n",
    "    'max_depth': randint(3, 10),           # 3 to 10\n",
    "    'min_samples_leaf': randint(20, 50),   # 20 to 70\n",
    "    'l2_regularization': uniform(0, 0.01), # 0 to 0.01\n",
    "}\n",
    "\n",
    "# Initialize the classifier\n",
    "hgb_clf = HistGradientBoostingClassifier(random_state=42)\n",
    "\n",
    "# Initialize RandomizedSearchCV\n",
    "random_search = RandomizedSearchCV(\n",
    "    estimator=hgb_clf,\n",
    "    param_distributions=param_dist,\n",
    "    n_iter=100,          # Number of parameter settings sampled\n",
    "    cv=5,               # 5-fold cross-validation\n",
    "    scoring='accuracy',\n",
    "    random_state=42,\n",
    "    n_jobs=-1,\n",
    "    verbose=1\n",
    ")\n",
    "\n",
    "# Fit RandomizedSearchCV\n",
    "random_search.fit(X_train, y_train)\n",
    "\n",
    "# Best parameters\n",
    "print(\"Best Parameters:\\n\", random_search.best_params_)\n",
    "\n",
    "# Best score\n",
    "print(\"Best Cross-Validation Accuracy:\", random_search.best_score_)"
   ]
  },
  {
   "cell_type": "code",
   "execution_count": null,
   "id": "58c04a5e-09dd-4df8-bfd3-a0c029236c5b",
   "metadata": {},
   "outputs": [],
   "source": []
  }
 ],
 "metadata": {
  "kernelspec": {
   "display_name": "Python 3 (ipykernel)",
   "language": "python",
   "name": "python3"
  },
  "language_info": {
   "codemirror_mode": {
    "name": "ipython",
    "version": 3
   },
   "file_extension": ".py",
   "mimetype": "text/x-python",
   "name": "python",
   "nbconvert_exporter": "python",
   "pygments_lexer": "ipython3",
   "version": "3.12.1"
  }
 },
 "nbformat": 4,
 "nbformat_minor": 5
}
