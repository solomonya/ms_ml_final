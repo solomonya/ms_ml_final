{
 "cells": [
  {
   "cell_type": "markdown",
   "id": "436f9d46-1579-4b4b-9424-be4ef60b1156",
   "metadata": {},
   "source": [
    "# Stock price predicting \n",
    "*If it were that simple, then everyone would be Warren Buffett.*\n",
    "\n",
    "## General problems\n",
    "\n",
    "### Time series analysis\n",
    "\n",
    "Time series analysis is closely related to stock price prediction because it focuses on modeling and forecasting data that are sequential and time-dependent, like stock prices. \n",
    "\n",
    "Since stock prices exhibit temporal patterns and trends, time series models—such as ARIMA or machine learning models like LSTMs—are well-suited to capture these dynamics and predict future movements based on historical data.\n",
    "\n",
    "---\n",
    "\n",
    "## Model (Algorithms)\n",
    "\n",
    "## Datasets\n",
    "\n",
    "## Metrics\n"
   ]
  }
 ],
 "metadata": {
  "kernelspec": {
   "display_name": "Python 3 (ipykernel)",
   "language": "python",
   "name": "python3"
  },
  "language_info": {
   "codemirror_mode": {
    "name": "ipython",
    "version": 3
   },
   "file_extension": ".py",
   "mimetype": "text/x-python",
   "name": "python",
   "nbconvert_exporter": "python",
   "pygments_lexer": "ipython3",
   "version": "3.12.1"
  }
 },
 "nbformat": 4,
 "nbformat_minor": 5
}
