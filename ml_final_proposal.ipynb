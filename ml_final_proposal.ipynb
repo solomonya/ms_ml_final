{
 "cells": [
  {
   "cell_type": "markdown",
   "id": "436f9d46-1579-4b4b-9424-be4ef60b1156",
   "metadata": {},
   "source": [
    "# Stock price predicting \n",
    "*If it were that simple, then everyone would be Warren Buffett.*\n",
    "\n",
    "## General problems\n",
    "\n",
    "### Time series analysis\n",
    "\n",
    "Time series analysis is closely related to stock price prediction because it focuses on modeling and forecasting data that are sequential and time-dependent, like stock prices. \n",
    "\n",
    "Since stock prices exhibit temporal patterns and trends, time series models—such as ARIMA or machine learning models like LSTMs—are well-suited to capture these dynamics and predict future movements based on historical data.\n",
    "\n",
    "---\n",
    "\n",
    "## Used models\n",
    "\n",
    "We have chosen to use a hybrid model that combines ARIMA (AutoRegressive Integrated Moving Average) and LSTM (Long Short-Term Memory) neural networks to leverage the strengths of both statistical and deep learning approaches in stock price prediction.\n",
    "\n",
    "ARIMA Model:\n",
    "\n",
    "Captures Linear Patterns: ARIMA is effective at modeling and forecasting linear components in time series data, such as trends and seasonality commonly observed in stock prices.\n",
    "Statistical Foundation: Provides a solid baseline by handling the autoregressive and moving average aspects of the data.\n",
    "LSTM Neural Network:\n",
    "\n",
    "Handles Nonlinear Relationships: LSTMs excel at learning complex nonlinear patterns and long-term dependencies in sequential data, which are prevalent in financial markets due to volatility and investor behavior.\n",
    "Memory Capability: LSTM's gated structure allows it to retain information over longer periods, making it suitable for capturing temporal dependencies.\n",
    "\n",
    "## Datasets\n",
    "\n",
    "For this project we will use open-source Kaggle datasets containing historical stock prices to predict future stock movements through time series analysis and machine learning. If multiple datasets share the same structure, they can be merged to expand the dataset and improve model performance. The process involves analyzing historical price data to identify patterns and trends, enabling the model to forecast future stock prices effectively.\n",
    "\n",
    "* [Huge Stock Market Dataset](https://www.kaggle.com/datasets/borismarjanovic/price-volume-data-for-all-us-stocks-etfs)\n",
    "* [Stock Exchange Data](https://www.kaggle.com/datasets/mattiuzc/stock-exchange-data)\n",
    "* [Stock Market Dataset](https://www.kaggle.com/datasets/jacksoncrow/stock-market-dataset)\n",
    "\n",
    "## Metrics\n"
   ]
  }
 ],
 "metadata": {
  "kernelspec": {
   "display_name": "Python 3 (ipykernel)",
   "language": "python",
   "name": "python3"
  },
  "language_info": {
   "codemirror_mode": {
    "name": "ipython",
    "version": 3
   },
   "file_extension": ".py",
   "mimetype": "text/x-python",
   "name": "python",
   "nbconvert_exporter": "python",
   "pygments_lexer": "ipython3",
   "version": "3.12.1"
  }
 },
 "nbformat": 4,
 "nbformat_minor": 5
}
